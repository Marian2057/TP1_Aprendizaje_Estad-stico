{
 "cells": [
  {
   "cell_type": "code",
   "execution_count": 26,
   "id": "14debbed",
   "metadata": {},
   "outputs": [],
   "source": [
    "import numpy as np\n",
    "import pandas as pd\n",
    "import matplotlib.pyplot as plt\n",
    "import plotly.express as px\n",
    "import math\n"
   ]
  },
  {
   "cell_type": "code",
   "execution_count": 27,
   "id": "07853198",
   "metadata": {},
   "outputs": [
    {
     "data": {
      "text/html": [
       "<div>\n",
       "<style scoped>\n",
       "    .dataframe tbody tr th:only-of-type {\n",
       "        vertical-align: middle;\n",
       "    }\n",
       "\n",
       "    .dataframe tbody tr th {\n",
       "        vertical-align: top;\n",
       "    }\n",
       "\n",
       "    .dataframe thead th {\n",
       "        text-align: right;\n",
       "    }\n",
       "</style>\n",
       "<table border=\"1\" class=\"dataframe\">\n",
       "  <thead>\n",
       "    <tr style=\"text-align: right;\">\n",
       "      <th></th>\n",
       "      <th>id</th>\n",
       "      <th>name</th>\n",
       "      <th>host_id</th>\n",
       "      <th>host_name</th>\n",
       "      <th>neighbourhood</th>\n",
       "      <th>latitude</th>\n",
       "      <th>longitude</th>\n",
       "      <th>room_type</th>\n",
       "      <th>price</th>\n",
       "      <th>minimum_nights</th>\n",
       "      <th>number_of_reviews</th>\n",
       "      <th>last_review</th>\n",
       "      <th>reviews_per_month</th>\n",
       "      <th>calculated_host_listings_count</th>\n",
       "      <th>availability_365</th>\n",
       "    </tr>\n",
       "  </thead>\n",
       "  <tbody>\n",
       "    <tr>\n",
       "      <th>0</th>\n",
       "      <td>7270</td>\n",
       "      <td>¡¡Great Loft in Palermo Hollywood!!</td>\n",
       "      <td>18822</td>\n",
       "      <td>Toni</td>\n",
       "      <td>Palermo</td>\n",
       "      <td>-34.58241</td>\n",
       "      <td>-58.43382</td>\n",
       "      <td>Entire home/apt</td>\n",
       "      <td>2033</td>\n",
       "      <td>20</td>\n",
       "      <td>14</td>\n",
       "      <td>30-04-2018</td>\n",
       "      <td>0.15</td>\n",
       "      <td>1</td>\n",
       "      <td>363</td>\n",
       "    </tr>\n",
       "    <tr>\n",
       "      <th>1</th>\n",
       "      <td>11508</td>\n",
       "      <td>Amazing Luxurious Apt-Palermo Soho</td>\n",
       "      <td>42762</td>\n",
       "      <td>Candela</td>\n",
       "      <td>Palermo</td>\n",
       "      <td>-34.58225</td>\n",
       "      <td>-58.42460</td>\n",
       "      <td>Entire home/apt</td>\n",
       "      <td>3588</td>\n",
       "      <td>2</td>\n",
       "      <td>25</td>\n",
       "      <td>13-08-2019</td>\n",
       "      <td>0.28</td>\n",
       "      <td>1</td>\n",
       "      <td>281</td>\n",
       "    </tr>\n",
       "    <tr>\n",
       "      <th>2</th>\n",
       "      <td>12463</td>\n",
       "      <td>Room in Recoleta - awesome location</td>\n",
       "      <td>48799</td>\n",
       "      <td>Matt</td>\n",
       "      <td>Recoleta</td>\n",
       "      <td>-34.59761</td>\n",
       "      <td>-58.39468</td>\n",
       "      <td>Private room</td>\n",
       "      <td>1435</td>\n",
       "      <td>1</td>\n",
       "      <td>20</td>\n",
       "      <td>11-12-2017</td>\n",
       "      <td>0.17</td>\n",
       "      <td>1</td>\n",
       "      <td>365</td>\n",
       "    </tr>\n",
       "    <tr>\n",
       "      <th>3</th>\n",
       "      <td>13095</td>\n",
       "      <td>Standard Room at Palermo Viejo B&amp;B</td>\n",
       "      <td>50994</td>\n",
       "      <td>Ariel</td>\n",
       "      <td>Palermo</td>\n",
       "      <td>-34.59382</td>\n",
       "      <td>-58.42994</td>\n",
       "      <td>Private room</td>\n",
       "      <td>2691</td>\n",
       "      <td>1</td>\n",
       "      <td>1</td>\n",
       "      <td>18-12-2018</td>\n",
       "      <td>0.09</td>\n",
       "      <td>7</td>\n",
       "      <td>360</td>\n",
       "    </tr>\n",
       "    <tr>\n",
       "      <th>4</th>\n",
       "      <td>13096</td>\n",
       "      <td>Standard Room in Palermo Viejo B&amp;B</td>\n",
       "      <td>50994</td>\n",
       "      <td>Ariel</td>\n",
       "      <td>Palermo</td>\n",
       "      <td>-34.59398</td>\n",
       "      <td>-58.42853</td>\n",
       "      <td>Private room</td>\n",
       "      <td>2691</td>\n",
       "      <td>1</td>\n",
       "      <td>0</td>\n",
       "      <td>NaN</td>\n",
       "      <td>NaN</td>\n",
       "      <td>7</td>\n",
       "      <td>360</td>\n",
       "    </tr>\n",
       "  </tbody>\n",
       "</table>\n",
       "</div>"
      ],
      "text/plain": [
       "      id                                 name  host_id host_name  \\\n",
       "0   7270  ¡¡Great Loft in Palermo Hollywood!!    18822      Toni   \n",
       "1  11508   Amazing Luxurious Apt-Palermo Soho    42762   Candela   \n",
       "2  12463  Room in Recoleta - awesome location    48799      Matt   \n",
       "3  13095   Standard Room at Palermo Viejo B&B    50994     Ariel   \n",
       "4  13096   Standard Room in Palermo Viejo B&B    50994     Ariel   \n",
       "\n",
       "  neighbourhood  latitude  longitude        room_type  price  minimum_nights  \\\n",
       "0       Palermo -34.58241  -58.43382  Entire home/apt   2033              20   \n",
       "1       Palermo -34.58225  -58.42460  Entire home/apt   3588               2   \n",
       "2      Recoleta -34.59761  -58.39468     Private room   1435               1   \n",
       "3       Palermo -34.59382  -58.42994     Private room   2691               1   \n",
       "4       Palermo -34.59398  -58.42853     Private room   2691               1   \n",
       "\n",
       "   number_of_reviews last_review  reviews_per_month  \\\n",
       "0                 14  30-04-2018               0.15   \n",
       "1                 25  13-08-2019               0.28   \n",
       "2                 20  11-12-2017               0.17   \n",
       "3                  1  18-12-2018               0.09   \n",
       "4                  0         NaN                NaN   \n",
       "\n",
       "   calculated_host_listings_count  availability_365  \n",
       "0                               1               363  \n",
       "1                               1               281  \n",
       "2                               1               365  \n",
       "3                               7               360  \n",
       "4                               7               360  "
      ]
     },
     "execution_count": 27,
     "metadata": {},
     "output_type": "execute_result"
    }
   ],
   "source": [
    "url = 'https://raw.githubusercontent.com/Marian2057/TP1_Aprendizaje_Estad-stico/main/Buenos_Aires_AIRBNB.csv'\n",
    "base = pd.read_csv(url)\n",
    "base.head()"
   ]
  },
  {
   "cell_type": "markdown",
   "id": "e7f20a30",
   "metadata": {},
   "source": [
    "¿Qué columnas tiene?"
   ]
  },
  {
   "cell_type": "code",
   "execution_count": 28,
   "id": "c437f8b1",
   "metadata": {},
   "outputs": [
    {
     "data": {
      "text/plain": [
       "Index(['id', 'name', 'host_id', 'host_name', 'neighbourhood', 'latitude',\n",
       "       'longitude', 'room_type', 'price', 'minimum_nights',\n",
       "       'number_of_reviews', 'last_review', 'reviews_per_month',\n",
       "       'calculated_host_listings_count', 'availability_365'],\n",
       "      dtype='object')"
      ]
     },
     "execution_count": 28,
     "metadata": {},
     "output_type": "execute_result"
    }
   ],
   "source": [
    "base.columns"
   ]
  },
  {
   "cell_type": "markdown",
   "id": "c5f00d1d",
   "metadata": {},
   "source": [
    "¿Qué tipo de columnas son?\n",
    "\n",
    "Tenemos 10 variables numericas (3 son flotantes y 7 enteras) y 5 categoricas"
   ]
  },
  {
   "cell_type": "code",
   "execution_count": 29,
   "id": "d92595e4",
   "metadata": {},
   "outputs": [
    {
     "name": "stdout",
     "output_type": "stream",
     "text": [
      "Variables del dataset \n",
      "\n",
      "<class 'pandas.core.frame.DataFrame'>\n",
      "RangeIndex: 22877 entries, 0 to 22876\n",
      "Data columns (total 15 columns):\n",
      " #   Column                          Non-Null Count  Dtype  \n",
      "---  ------                          --------------  -----  \n",
      " 0   id                              22877 non-null  int64  \n",
      " 1   name                            22867 non-null  object \n",
      " 2   host_id                         22877 non-null  int64  \n",
      " 3   host_name                       22854 non-null  object \n",
      " 4   neighbourhood                   22877 non-null  object \n",
      " 5   latitude                        22877 non-null  float64\n",
      " 6   longitude                       22877 non-null  float64\n",
      " 7   room_type                       22877 non-null  object \n",
      " 8   price                           22877 non-null  int64  \n",
      " 9   minimum_nights                  22877 non-null  int64  \n",
      " 10  number_of_reviews               22877 non-null  int64  \n",
      " 11  last_review                     16432 non-null  object \n",
      " 12  reviews_per_month               16432 non-null  float64\n",
      " 13  calculated_host_listings_count  22877 non-null  int64  \n",
      " 14  availability_365                22877 non-null  int64  \n",
      "dtypes: float64(3), int64(7), object(5)\n",
      "memory usage: 2.6+ MB\n"
     ]
    }
   ],
   "source": [
    "print(\"Variables del dataset \\n\")\n",
    "base.info()"
   ]
  },
  {
   "cell_type": "markdown",
   "id": "9e5d2957",
   "metadata": {},
   "source": [
    "Análisis y aplicación de Medidas de Tendencia Central"
   ]
  },
  {
   "cell_type": "code",
   "execution_count": 30,
   "id": "e7819f00",
   "metadata": {},
   "outputs": [
    {
     "data": {
      "image/png": "[encoded data removed]",
      "text/plain": [
       "<Figure size 640x480 with 1 Axes>"
      ]
     },
     "metadata": {},
     "output_type": "display_data"
    }
   ],
   "source": [
    "media_number_of_reviews = np.mean(base[\"number_of_reviews\"])\n",
    "mediana_number_of_reviews = np.median(base[\"number_of_reviews\"])\n",
    "min_number_of_reviews = np.min(base[\"number_of_reviews\"])\n",
    "max_number_of_reviews = np.max(base[\"number_of_reviews\"])\n",
    "rango_number_of_reviews = max_number_of_reviews - min_number_of_reviews\n",
    "std_number_of_reviews = np.std(base[\"number_of_reviews\"])\n",
    "p99_number_of_reviews = np.percentile(base[\"number_of_reviews\"], 99)\n",
    "\n",
    "# Armamos el gráfico\n",
    "plt.hist(base[\"number_of_reviews\"], color='blue', alpha=0.5)\n",
    "plt.xlabel(\"number_of_reviews\")\n",
    "plt.ylabel(\"Frecuencia\")\n",
    "plt.title(\"Distribución de numero de reviews\")\n",
    "plt.axvline(media_number_of_reviews, color='red', linewidth=2, label=f'Media = {media_number_of_reviews:.2f}')\n",
    "plt.axvline(mediana_number_of_reviews, color='green', linewidth=2, label=f'Mediana = {mediana_number_of_reviews:.2f}')\n",
    "plt.axvline(p99_number_of_reviews, color='black', linewidth=2, label=f'99% = {p99_number_of_reviews:.2f}')\n",
    "\n",
    "plt.legend()\n",
    "plt.show()"
   ]
  },
  {
   "cell_type": "code",
   "execution_count": 31,
   "id": "f2d2c280",
   "metadata": {},
   "outputs": [
    {
     "name": "stdout",
     "output_type": "stream",
     "text": [
      "La cantidad mínima de numeros de reviews es: 0\n",
      "La cantidad máxima de numeros de reviews es: 600\n",
      "El rango de numeros de reviews es: 600\n",
      "El error standard de numeros de reviews es: 31.2679\n"
     ]
    }
   ],
   "source": [
    "print(f\"La cantidad mínima de numeros de reviews es: {min_number_of_reviews}\")\n",
    "print(f\"La cantidad máxima de numeros de reviews es: {max_number_of_reviews}\")\n",
    "print(f\"El rango de numeros de reviews es: {rango_number_of_reviews}\")\n",
    "print(f\"El error standard de numeros de reviews es: {std_number_of_reviews:.4f}\")"
   ]
  },
  {
   "cell_type": "code",
   "execution_count": 32,
   "id": "4d93378b",
   "metadata": {},
   "outputs": [
    {
     "name": "stdout",
     "output_type": "stream",
     "text": [
      "El percentil 25 es: 0.0; \n",
      "El percentil 50 es: 4.0; \n",
      "El percentil 60 es: 7.0; \n",
      "El percentil 75 es: 16.0; \n",
      "El percentil 95 es: 72.0.\n"
     ]
    }
   ],
   "source": [
    "p25_number_of_reviews = np.percentile(base[\"number_of_reviews\"], 25)\n",
    "p50_number_of_reviews = np.percentile(base[\"number_of_reviews\"], 50)\n",
    "p60_number_of_reviews = np.percentile(base[\"number_of_reviews\"], 60)\n",
    "p75_number_of_reviews = np.percentile(base[\"number_of_reviews\"], 75)\n",
    "p95_number_of_reviews = np.percentile(base[\"number_of_reviews\"], 95)\n",
    "print(f\"El percentil 25 es: {p25_number_of_reviews}; \\nEl percentil 50 es: {p50_number_of_reviews}; \\nEl percentil 60 es: {p60_number_of_reviews}; \\nEl percentil 75 es: {p75_number_of_reviews}; \\nEl percentil 95 es: {p95_number_of_reviews}.\")"
   ]
  },
  {
   "cell_type": "code",
   "execution_count": 33,
   "id": "870e834b",
   "metadata": {},
   "outputs": [
    {
     "data": {
      "image/png": "[encoded data removed]",
      "text/plain": [
       "<Figure size 640x480 with 1 Axes>"
      ]
     },
     "metadata": {},
     "output_type": "display_data"
    },
    {
     "name": "stdout",
     "output_type": "stream",
     "text": [
      "Desviación estándar: 31.26788135938263\n",
      "Varianza: 977.6804047044279\n",
      "Rango intercuartil: 16.0\n",
      "Coeficiente de variación: 201.95009707925274\n"
     ]
    }
   ],
   "source": [
    "# Calculamos las medidas de dispersión\n",
    "std_number_of_reviews = np.std(base[\"number_of_reviews\"])\n",
    "var_number_of_reviews = np.var(base[\"number_of_reviews\"])\n",
    "iqr_number_of_reviews = np.subtract(np.percentile(base[\"number_of_reviews\"], 75), np.percentile(base[\"number_of_reviews\"], 25))\n",
    "cv_number_of_reviews = (std_number_of_reviews / media_number_of_reviews) * 100\n",
    "\n",
    "# Armamos el gráfico\n",
    "plt.hist(base[\"number_of_reviews\"], color='blue', alpha=0.5)\n",
    "plt.xlabel(\"number_of_reviews\")\n",
    "plt.ylabel(\"Frecuencia\")\n",
    "plt.title(\"Distribución del numero de reviews\")\n",
    "plt.axvline(media_number_of_reviews, color='red', linewidth=2, label=f'Media = {media_number_of_reviews:.2f}')\n",
    "plt.axvline(mediana_number_of_reviews, color='green', linewidth=2, label=f'Mediana = {mediana_number_of_reviews:.2f}')\n",
    "plt.axvline(p99_number_of_reviews, color='black', linewidth=2, label=f'99% = {p99_number_of_reviews:.2f}')\n",
    "plt.axvline(media_number_of_reviews + std_number_of_reviews, color='orange', linewidth=2, label=f'Desv. estándar = {std_number_of_reviews:.2f}')\n",
    "plt.axvline(media_number_of_reviews - std_number_of_reviews, color='orange', linewidth=2)\n",
    "plt.legend()\n",
    "plt.show()\n",
    "\n",
    "# Imprimimos las medidas de dispersión\n",
    "print(\"Desviación estándar:\", std_number_of_reviews)\n",
    "print(\"Varianza:\", var_number_of_reviews)\n",
    "print(\"Rango intercuartil:\", iqr_number_of_reviews)\n",
    "print(\"Coeficiente de variación:\", cv_number_of_reviews)"
   ]
  },
  {
   "cell_type": "code",
   "execution_count": 34,
   "id": "410bc616",
   "metadata": {},
   "outputs": [
    {
     "name": "stdout",
     "output_type": "stream",
     "text": [
      "Covarianza entre numero de reviews y minimo de noches:\n",
      "-40.42518648101019\n"
     ]
    }
   ],
   "source": [
    "# El análisis de covarianza (ANCOVA) se utiliza para examinar si existe una relación entre una variable dependiente y una \n",
    "# variable independiente, mientras se controlan los efectos de otras variables independientes (también conocidas como \n",
    "# covariables). La covarianza es una medida de cómo varían conjuntamente dos variables. Si las dos variables tienden a variar \n",
    "# juntas (es decir, cuando una variable es alta, la otra también lo es), entonces la covarianza será positiva. Si las dos \n",
    "# variables tienden a variar en direcciones opuestas (es decir, cuando una variable es alta, la otra es baja), entonces la \n",
    "# covarianza será negativa.\n",
    "\n",
    "# Para realizar un análisis de covarianza en Python, se puede utilizar la función scipy.stats.linregress() de la biblioteca \n",
    "# SciPy. Esta función calcula una regresión lineal simple y devuelve varios valores, incluyendo la covarianza entre las dos \n",
    "# variables.\n",
    "\n",
    "# Supongamos que tenemos un conjunto de datos que contiene dos variables, una variable independiente llamada \"X\" y una variable \n",
    "# dependiente llamada \"Y\". El siguiente código muestra cómo se puede calcular la covarianza entre las dos variables utilizando \n",
    "# scipy.stats.linregress():\n",
    "\n",
    "\n",
    "# Extraemos los datos de las columnas \"Edad\" y \"superficie\"\n",
    "number_of_reviews = base[\"number_of_reviews\"]\n",
    "minimum_nights = base[\"minimum_nights\"]\n",
    "\n",
    "# Calculamos la covarianza entre ambas variables\n",
    "cov = np.cov(number_of_reviews, minimum_nights)\n",
    "\n",
    "# Imprimimos la covarianza\n",
    "print(\"Covarianza entre numero de reviews y minimo de noches:\")\n",
    "print(cov[0, 1])"
   ]
  },
  {
   "cell_type": "code",
   "execution_count": 35,
   "id": "f29033b6",
   "metadata": {},
   "outputs": [
    {
     "name": "stdout",
     "output_type": "stream",
     "text": [
      "Coeficiente de correlación entre número de reviews y mínimo de noches:\n",
      "-0.06009516719196071\n"
     ]
    }
   ],
   "source": [
    "corr = np.corrcoef(number_of_reviews, minimum_nights)[0, 1]\n",
    "print(\"Coeficiente de correlación entre número de reviews y mínimo de noches:\")\n",
    "print(corr)"
   ]
  },
  {
   "cell_type": "markdown",
   "id": "ab4043ad",
   "metadata": {},
   "source": [
    "Dividir los datos en conjuntos de entrenamiento y prueba:"
   ]
  },
  {
   "cell_type": "code",
   "execution_count": null,
   "id": "61d499f3",
   "metadata": {},
   "outputs": [],
   "source": []
  },
  {
   "cell_type": "markdown",
   "id": "b247b00d",
   "metadata": {},
   "source": [
    "Creación y entrenamiento del modelo de predicción de precios:"
   ]
  },
  {
   "cell_type": "code",
   "execution_count": null,
   "id": "ca0a2e8a",
   "metadata": {},
   "outputs": [],
   "source": []
  },
  {
   "cell_type": "markdown",
   "id": "08183aa8",
   "metadata": {},
   "source": [
    "Entrenar y evaluar el modelo de predicción de precio:"
   ]
  },
  {
   "cell_type": "markdown",
   "id": "13914dc0",
   "metadata": {},
   "source": [
    "\n"
   ]
  },
  {
   "cell_type": "code",
   "execution_count": null,
   "id": "03a4eab5",
   "metadata": {},
   "outputs": [],
   "source": []
  }
 ],
 "metadata": {
  "kernelspec": {
   "display_name": "Python 3 (ipykernel)",
   "language": "python",
   "name": "python3"
  },
  "language_info": {
   "codemirror_mode": {
    "name": "ipython",
    "version": 3
   },
   "file_extension": ".py",
   "mimetype": "text/x-python",
   "name": "python",
   "nbconvert_exporter": "python",
   "pygments_lexer": "ipython3",
   "version": "3.10.9"
  }
 },
 "nbformat": 4,
 "nbformat_minor": 5
}
